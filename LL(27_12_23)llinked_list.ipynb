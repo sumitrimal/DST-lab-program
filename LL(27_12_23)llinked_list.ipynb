{
  "nbformat": 4,
  "nbformat_minor": 0,
  "metadata": {
    "colab": {
      "provenance": []
    },
    "kernelspec": {
      "name": "python3",
      "display_name": "Python 3"
    },
    "language_info": {
      "name": "python"
    }
  },
  "cells": [
    {
      "cell_type": "code",
      "execution_count": null,
      "metadata": {
        "colab": {
          "base_uri": "https://localhost:8080/"
        },
        "id": "O_uRh6mJkzgA",
        "outputId": "cad53912-c2b7-45a5-9301-597008e9cc99"
      },
      "outputs": [
        {
          "output_type": "stream",
          "name": "stdout",
          "text": [
            "1234\n",
            "10\n"
          ]
        }
      ],
      "source": [
        "class Node:\n",
        "    def __init__(self,data):\n",
        "        self.data=data\n",
        "        self.ref=None\n",
        "node1=Node(10)\n",
        "\n",
        "class linkedlist:\n",
        "    def __init__(self):\n",
        "        self.head=None\n",
        "    def print_ll(self):\n",
        "        if self.head is None:\n",
        "            print(\"LL is empty\")\n",
        "        else:\n",
        "            n=self.head\n",
        "            while n is not None:\n",
        "                print(n.data)\n",
        "                n=n.ref\n",
        "\n",
        "    #insertion at beg\n",
        "    def add_beg(self,data):\n",
        "        newnode=Node(data)\n",
        "        newnode.ref=self.head\n",
        "        self.head=newnode\n",
        "\n",
        "    #insertion at end\n",
        "    def add_end(self,data):\n",
        "        newnode=Node(data)\n",
        "        if self.head is None:\n",
        "            self.head=newnode\n",
        "        else:\n",
        "            n=self.head\n",
        "            while n.ref is not None:\n",
        "                n=n.ref\n",
        "            n.ref=newnode\n",
        "\n",
        "    #in between\n",
        "    def add_after(self,data,x):\n",
        "        n=self.head\n",
        "        while n is not None:\n",
        "            if x==n.data:\n",
        "                break\n",
        "            n=n.ref\n",
        "        if n is None:\n",
        "            print(\"Node is not present\")\n",
        "        else:\n",
        "            newnode=Node(data)\n",
        "            newnode.ref=n.ref\n",
        "            n.ref=newnode\n",
        "\n",
        "    #deletion at beginning\n",
        "    def delete_beg(self):\n",
        "        if self.head is None:\n",
        "            print(\"LL is empty so we cant delete nodes\")\n",
        "        else:\n",
        "            self.head=self.head.ref\n",
        "\n",
        "    #deletion at end\n",
        "    def del_end(self):\n",
        "        if self.head is None:\n",
        "            print(\"LL is empty so we cant delete nodes\")\n",
        "        else:\n",
        "            n=self.head\n",
        "            while n.ref.ref is not None:\n",
        "                n=n.ref\n",
        "            n.ref=None\n",
        "\n",
        "ll1=linkedlist()\n",
        "ll1.add_end(1000)\n",
        "ll1.add_beg(10)\n",
        "ll1.add_beg(20)\n",
        "ll1.add_after(1234,20)\n",
        "ll1.delete_beg()\n",
        "ll1.del_end()\n",
        "ll1.print_ll()"
      ]
    },
    {
      "cell_type": "code",
      "source": [],
      "metadata": {
        "id": "Yd1qnojys8oc"
      },
      "execution_count": null,
      "outputs": []
    },
    {
      "cell_type": "code",
      "source": [],
      "metadata": {
        "id": "pCvjeLAapeAS"
      },
      "execution_count": null,
      "outputs": []
    }
  ]
}